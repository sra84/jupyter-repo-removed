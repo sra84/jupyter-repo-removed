{
 "cells": [
  {
   "cell_type": "code",
   "execution_count": 1,
   "id": "5f0a08f2",
   "metadata": {},
   "outputs": [],
   "source": [
    "import time"
   ]
  },
  {
   "cell_type": "code",
   "execution_count": 13,
   "id": "a8263800",
   "metadata": {},
   "outputs": [
    {
     "data": {
      "text/plain": [
       "1634019044.1768658"
      ]
     },
     "execution_count": 13,
     "metadata": {},
     "output_type": "execute_result"
    }
   ],
   "source": [
    "initial = time.time()  #this function will give some number\n",
    "initial   "
   ]
  },
  {
   "cell_type": "code",
   "execution_count": 2,
   "id": "1cb60cea",
   "metadata": {},
   "outputs": [
    {
     "name": "stdout",
     "output_type": "stream",
     "text": [
      "this is rizwan\n",
      "this is rizwan\n",
      "this is rizwan\n",
      "this is rizwan\n",
      "this is rizwan\n",
      "this is rizwan\n",
      "this is rizwan\n",
      "this is rizwan\n",
      "this is rizwan\n",
      "this is rizwan\n",
      "this is rizwan\n",
      "this is rizwan\n",
      "this is rizwan\n",
      "this is rizwan\n",
      "this is rizwan\n",
      "this is rizwan\n",
      "this is rizwan\n",
      "this is rizwan\n",
      "this is rizwan\n",
      "this is rizwan\n",
      "this is rizwan\n",
      "this is rizwan\n",
      "this is rizwan\n",
      "this is rizwan\n",
      "this is rizwan\n",
      "this is rizwan\n",
      "this is rizwan\n",
      "this is rizwan\n",
      "this is rizwan\n",
      "this is rizwan\n",
      "this is rizwan\n",
      "this is rizwan\n",
      "this is rizwan\n",
      "this is rizwan\n",
      "this is rizwan\n",
      "this is rizwan\n",
      "this is rizwan\n",
      "this is rizwan\n",
      "this is rizwan\n",
      "this is rizwan\n",
      "this is rizwan\n",
      "this is rizwan\n",
      "this is rizwan\n",
      "this is rizwan\n",
      "this is rizwan\n"
     ]
    }
   ],
   "source": [
    "k=0\n",
    "while(k<45):\n",
    "    print(\"this is rizwan\")\n",
    "    k+=1"
   ]
  },
  {
   "cell_type": "code",
   "execution_count": 6,
   "id": "8da9157f",
   "metadata": {},
   "outputs": [
    {
     "name": "stdout",
     "output_type": "stream",
     "text": [
      "while loop ran in 78.08040976524353 senconds\n"
     ]
    }
   ],
   "source": [
    "print(\"while loop ran in\", time.time()-initial, \"microsenconds\")"
   ]
  },
  {
   "cell_type": "code",
   "execution_count": 10,
   "id": "63f166d0",
   "metadata": {},
   "outputs": [],
   "source": [
    "initial2 = time.time()"
   ]
  },
  {
   "cell_type": "code",
   "execution_count": 11,
   "id": "f830b8f8",
   "metadata": {},
   "outputs": [
    {
     "name": "stdout",
     "output_type": "stream",
     "text": [
      "this is rizwan\n",
      "this is rizwan\n",
      "this is rizwan\n",
      "this is rizwan\n",
      "this is rizwan\n",
      "this is rizwan\n",
      "this is rizwan\n",
      "this is rizwan\n",
      "this is rizwan\n",
      "this is rizwan\n",
      "this is rizwan\n",
      "this is rizwan\n",
      "this is rizwan\n",
      "this is rizwan\n",
      "this is rizwan\n",
      "this is rizwan\n",
      "this is rizwan\n",
      "this is rizwan\n",
      "this is rizwan\n",
      "this is rizwan\n",
      "this is rizwan\n",
      "this is rizwan\n",
      "this is rizwan\n",
      "this is rizwan\n",
      "this is rizwan\n",
      "this is rizwan\n",
      "this is rizwan\n",
      "this is rizwan\n",
      "this is rizwan\n",
      "this is rizwan\n",
      "this is rizwan\n",
      "this is rizwan\n",
      "this is rizwan\n",
      "this is rizwan\n",
      "this is rizwan\n",
      "this is rizwan\n",
      "this is rizwan\n",
      "this is rizwan\n",
      "this is rizwan\n",
      "this is rizwan\n",
      "this is rizwan\n",
      "this is rizwan\n",
      "this is rizwan\n",
      "this is rizwan\n",
      "this is rizwan\n"
     ]
    }
   ],
   "source": [
    "for i in range(45):\n",
    "    print(\"this is rizwan\")"
   ]
  },
  {
   "cell_type": "code",
   "execution_count": 12,
   "id": "dd6d43da",
   "metadata": {},
   "outputs": [
    {
     "name": "stdout",
     "output_type": "stream",
     "text": [
      "for loop ran in 5.287479639053345 senconds\n"
     ]
    }
   ],
   "source": [
    "print(\"for loop ran in\", time.time()-initial2, \"microsenconds\")"
   ]
  },
  {
   "cell_type": "code",
   "execution_count": null,
   "id": "4cf19579",
   "metadata": {},
   "outputs": [],
   "source": []
  },
  {
   "cell_type": "code",
   "execution_count": null,
   "id": "2542e8df",
   "metadata": {},
   "outputs": [],
   "source": []
  }
 ],
 "metadata": {
  "kernelspec": {
   "display_name": "Python 3 (ipykernel)",
   "language": "python",
   "name": "python3"
  },
  "language_info": {
   "codemirror_mode": {
    "name": "ipython",
    "version": 3
   },
   "file_extension": ".py",
   "mimetype": "text/x-python",
   "name": "python",
   "nbconvert_exporter": "python",
   "pygments_lexer": "ipython3",
   "version": "3.9.6"
  }
 },
 "nbformat": 4,
 "nbformat_minor": 5
}
