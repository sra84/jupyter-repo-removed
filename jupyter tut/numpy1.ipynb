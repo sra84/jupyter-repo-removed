{
 "cells": [
  {
   "cell_type": "code",
   "execution_count": 1,
   "id": "47a7c521",
   "metadata": {},
   "outputs": [],
   "source": [
    "import numpy as np"
   ]
  },
  {
   "cell_type": "code",
   "execution_count": 10,
   "id": "4657b5d5",
   "metadata": {},
   "outputs": [],
   "source": [
    "arr = np.arange(100000)"
   ]
  },
  {
   "cell_type": "code",
   "execution_count": 8,
   "id": "5923894c",
   "metadata": {},
   "outputs": [],
   "source": [
    "list1 = list(range(1000000))"
   ]
  },
  {
   "cell_type": "code",
   "execution_count": 9,
   "id": "fcfb20d1",
   "metadata": {},
   "outputs": [
    {
     "name": "stdout",
     "output_type": "stream",
     "text": [
      "Wall time: 861 ms\n"
     ]
    }
   ],
   "source": [
    "%time for _ in range(10): [item *3 for item in list1]"
   ]
  },
  {
   "cell_type": "code",
   "execution_count": 11,
   "id": "e08201cb",
   "metadata": {},
   "outputs": [
    {
     "name": "stdout",
     "output_type": "stream",
     "text": [
      "Wall time: 8 ms\n"
     ]
    }
   ],
   "source": [
    "%time for _ in range(10): arr = arr*3"
   ]
  },
  {
   "cell_type": "code",
   "execution_count": null,
   "id": "c8d2925e",
   "metadata": {},
   "outputs": [],
   "source": []
  }
 ],
 "metadata": {
  "kernelspec": {
   "display_name": "Python 3 (ipykernel)",
   "language": "python",
   "name": "python3"
  },
  "language_info": {
   "codemirror_mode": {
    "name": "ipython",
    "version": 3
   },
   "file_extension": ".py",
   "mimetype": "text/x-python",
   "name": "python",
   "nbconvert_exporter": "python",
   "pygments_lexer": "ipython3",
   "version": "3.9.6"
  }
 },
 "nbformat": 4,
 "nbformat_minor": 5
}
