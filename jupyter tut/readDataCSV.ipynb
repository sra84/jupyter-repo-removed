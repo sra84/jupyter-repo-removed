{
 "cells": [
  {
   "cell_type": "code",
   "execution_count": 2,
   "id": "751928ae",
   "metadata": {},
   "outputs": [],
   "source": [
    "import pandas as pd"
   ]
  },
  {
   "cell_type": "code",
   "execution_count": 3,
   "id": "edfa1f8e",
   "metadata": {},
   "outputs": [],
   "source": [
    "df = pd.read_csv('data.csv')"
   ]
  },
  {
   "cell_type": "code",
   "execution_count": 5,
   "id": "d03f8b2c",
   "metadata": {},
   "outputs": [
    {
     "data": {
      "text/html": [
       "<div>\n",
       "<style scoped>\n",
       "    .dataframe tbody tr th:only-of-type {\n",
       "        vertical-align: middle;\n",
       "    }\n",
       "\n",
       "    .dataframe tbody tr th {\n",
       "        vertical-align: top;\n",
       "    }\n",
       "\n",
       "    .dataframe thead th {\n",
       "        text-align: right;\n",
       "    }\n",
       "</style>\n",
       "<table border=\"1\" class=\"dataframe\">\n",
       "  <thead>\n",
       "    <tr style=\"text-align: right;\">\n",
       "      <th></th>\n",
       "      <th>Date</th>\n",
       "      <th>Open</th>\n",
       "      <th>High</th>\n",
       "      <th>Low</th>\n",
       "      <th>Close</th>\n",
       "      <th>Shares Traded</th>\n",
       "      <th>Turnover (Rs. Cr)</th>\n",
       "    </tr>\n",
       "  </thead>\n",
       "  <tbody>\n",
       "    <tr>\n",
       "      <th>0</th>\n",
       "      <td>01-Jan-2021</td>\n",
       "      <td>13996.10</td>\n",
       "      <td>14049.85</td>\n",
       "      <td>13991.35</td>\n",
       "      <td>14018.50</td>\n",
       "      <td>258090905</td>\n",
       "      <td>15873.75</td>\n",
       "    </tr>\n",
       "    <tr>\n",
       "      <th>1</th>\n",
       "      <td>04-Jan-2021</td>\n",
       "      <td>14104.35</td>\n",
       "      <td>14147.95</td>\n",
       "      <td>13953.75</td>\n",
       "      <td>14132.90</td>\n",
       "      <td>494999295</td>\n",
       "      <td>28705.09</td>\n",
       "    </tr>\n",
       "    <tr>\n",
       "      <th>2</th>\n",
       "      <td>05-Jan-2021</td>\n",
       "      <td>14075.15</td>\n",
       "      <td>14215.60</td>\n",
       "      <td>14048.15</td>\n",
       "      <td>14199.50</td>\n",
       "      <td>492475349</td>\n",
       "      <td>30872.87</td>\n",
       "    </tr>\n",
       "    <tr>\n",
       "      <th>3</th>\n",
       "      <td>06-Jan-2021</td>\n",
       "      <td>14240.95</td>\n",
       "      <td>14244.15</td>\n",
       "      <td>14039.90</td>\n",
       "      <td>14146.25</td>\n",
       "      <td>632323316</td>\n",
       "      <td>34615.55</td>\n",
       "    </tr>\n",
       "    <tr>\n",
       "      <th>4</th>\n",
       "      <td>07-Jan-2021</td>\n",
       "      <td>14253.75</td>\n",
       "      <td>14256.25</td>\n",
       "      <td>14123.10</td>\n",
       "      <td>14137.35</td>\n",
       "      <td>559173512</td>\n",
       "      <td>33446.47</td>\n",
       "    </tr>\n",
       "  </tbody>\n",
       "</table>\n",
       "</div>"
      ],
      "text/plain": [
       "          Date      Open      High       Low     Close  Shares Traded  \\\n",
       "0  01-Jan-2021  13996.10  14049.85  13991.35  14018.50      258090905   \n",
       "1  04-Jan-2021  14104.35  14147.95  13953.75  14132.90      494999295   \n",
       "2  05-Jan-2021  14075.15  14215.60  14048.15  14199.50      492475349   \n",
       "3  06-Jan-2021  14240.95  14244.15  14039.90  14146.25      632323316   \n",
       "4  07-Jan-2021  14253.75  14256.25  14123.10  14137.35      559173512   \n",
       "\n",
       "   Turnover (Rs. Cr)  \n",
       "0           15873.75  \n",
       "1           28705.09  \n",
       "2           30872.87  \n",
       "3           34615.55  \n",
       "4           33446.47  "
      ]
     },
     "execution_count": 5,
     "metadata": {},
     "output_type": "execute_result"
    }
   ],
   "source": [
    "df.head()"
   ]
  },
  {
   "cell_type": "code",
   "execution_count": 9,
   "id": "de46c0b1",
   "metadata": {},
   "outputs": [
    {
     "name": "stdout",
     "output_type": "stream",
     "text": [
      "object\n"
     ]
    }
   ],
   "source": [
    "print(df['Date'].dtype)"
   ]
  },
  {
   "cell_type": "code",
   "execution_count": 11,
   "id": "c8c850e8",
   "metadata": {},
   "outputs": [
    {
     "name": "stdout",
     "output_type": "stream",
     "text": [
      "0      14049.85\n",
      "1      14147.95\n",
      "2      14215.60\n",
      "3      14244.15\n",
      "4      14256.25\n",
      "         ...   \n",
      "176    17622.75\n",
      "177    17578.35\n",
      "178    17610.45\n",
      "179    17843.90\n",
      "180    17947.65\n",
      "Name: High, Length: 181, dtype: float64\n"
     ]
    }
   ],
   "source": [
    "print(df['High'])"
   ]
  },
  {
   "cell_type": "code",
   "execution_count": 12,
   "id": "3123bcd1",
   "metadata": {},
   "outputs": [
    {
     "data": {
      "text/plain": [
       "0      14018.50\n",
       "1      14132.90\n",
       "2      14199.50\n",
       "3      14146.25\n",
       "4      14137.35\n",
       "         ...   \n",
       "176    17396.90\n",
       "177    17562.00\n",
       "178    17546.65\n",
       "179    17822.95\n",
       "180    17853.20\n",
       "Name: Close, Length: 181, dtype: float64"
      ]
     },
     "execution_count": 12,
     "metadata": {},
     "output_type": "execute_result"
    }
   ],
   "source": [
    "df['Close']"
   ]
  },
  {
   "cell_type": "code",
   "execution_count": 14,
   "id": "ef34c603",
   "metadata": {},
   "outputs": [
    {
     "data": {
      "text/plain": [
       "0      01-Jan-2021\n",
       "1      04-Jan-2021\n",
       "2      05-Jan-2021\n",
       "3      06-Jan-2021\n",
       "4      07-Jan-2021\n",
       "          ...     \n",
       "176    20-Sep-2021\n",
       "177    21-Sep-2021\n",
       "178    22-Sep-2021\n",
       "179    23-Sep-2021\n",
       "180    24-Sep-2021\n",
       "Name: Date, Length: 181, dtype: category\n",
       "Categories (181, object): ['01-Apr-2021', '01-Feb-2021', '01-Jan-2021', '01-Jul-2021', ..., '30-Mar-2021', '31-Aug-2021', '31-Mar-2021', '31-May-2021']"
      ]
     },
     "execution_count": 14,
     "metadata": {},
     "output_type": "execute_result"
    }
   ],
   "source": [
    "df['Date'].astype('category')"
   ]
  },
  {
   "cell_type": "code",
   "execution_count": null,
   "id": "e787334c",
   "metadata": {},
   "outputs": [],
   "source": []
  }
 ],
 "metadata": {
  "kernelspec": {
   "display_name": "Python 3 (ipykernel)",
   "language": "python",
   "name": "python3"
  },
  "language_info": {
   "codemirror_mode": {
    "name": "ipython",
    "version": 3
   },
   "file_extension": ".py",
   "mimetype": "text/x-python",
   "name": "python",
   "nbconvert_exporter": "python",
   "pygments_lexer": "ipython3",
   "version": "3.9.6"
  }
 },
 "nbformat": 4,
 "nbformat_minor": 5
}
