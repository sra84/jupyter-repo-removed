{
 "cells": [
  {
   "cell_type": "code",
   "execution_count": 2,
   "id": "30b777ec",
   "metadata": {},
   "outputs": [],
   "source": [
    "def f_name_print(a,b,c,d):\n",
    "    print(a,b,c,d)"
   ]
  },
  {
   "cell_type": "code",
   "execution_count": 3,
   "id": "1718db99",
   "metadata": {},
   "outputs": [
    {
     "name": "stdout",
     "output_type": "stream",
     "text": [
      "Rizwan Ali Syed Andleeb\n"
     ]
    }
   ],
   "source": [
    "f_name_print(\"Rizwan\", \"Ali\", \"Syed\", \"Andleeb\")"
   ]
  },
  {
   "cell_type": "code",
   "execution_count": 4,
   "id": "bbe75af6",
   "metadata": {},
   "outputs": [],
   "source": [
    "def funargs(*args):         #we can use any name inplace of args  / kwargs\n",
    "    for item in args:\n",
    "        print(item)"
   ]
  },
  {
   "cell_type": "code",
   "execution_count": 7,
   "id": "01bdb37a",
   "metadata": {},
   "outputs": [
    {
     "name": "stdout",
     "output_type": "stream",
     "text": [
      "Rizwan\n",
      "Ali\n",
      "Syed\n",
      "Andleeb\n",
      "the programmer\n"
     ]
    }
   ],
   "source": [
    "nam = [\"Rizwan\", \"Ali\", \"Syed\", \"Andleeb\", \"the programmer\"] #we can use tuple / list\n",
    "funargs(*nam)"
   ]
  },
  {
   "cell_type": "code",
   "execution_count": 8,
   "id": "f01b0962",
   "metadata": {},
   "outputs": [],
   "source": [
    "def funargs(normal, *args):   #normal arguments should be written first\n",
    "    print(normal)\n",
    "    for item in args:\n",
    "        print(item)"
   ]
  },
  {
   "cell_type": "code",
   "execution_count": 13,
   "id": "c952467a",
   "metadata": {},
   "outputs": [
    {
     "name": "stdout",
     "output_type": "stream",
     "text": [
      "these are some name\n",
      "Rizwan\n",
      "Ali\n",
      "Syed\n",
      "Andleeb\n",
      "the programmer\n"
     ]
    }
   ],
   "source": [
    "nam = [\"Rizwan\", \"Ali\", \"Syed\", \"Andleeb\", \"the programmer\"] #we can use tuple / list\n",
    "normal = \"these are some name\"\n",
    "funargs(normal, *nam)"
   ]
  },
  {
   "cell_type": "code",
   "execution_count": 14,
   "id": "e4147d44",
   "metadata": {},
   "outputs": [],
   "source": [
    "def funargs(normal, *args, **kwargs):   #normal arguments should be written first then args then kwargs\n",
    "    print(normal)\n",
    "    for item in args:\n",
    "        print(item)\n",
    "        \n",
    "    print(\"\\nNow we have\")\n",
    "    for key, value in kwargs.items():\n",
    "        print(f\"{key} is a {value}\")"
   ]
  },
  {
   "cell_type": "code",
   "execution_count": 16,
   "id": "949b6d2e",
   "metadata": {},
   "outputs": [
    {
     "name": "stdout",
     "output_type": "stream",
     "text": [
      "these are some name\n",
      "Rizwan\n",
      "Ali\n",
      "Syed\n",
      "Andleeb\n",
      "the programmer\n",
      "\n",
      "Now we have\n",
      "Andleeb is a Monitor\n",
      "Rizwan is a Fitness instructor\n",
      "the programmer is a coordinator\n"
     ]
    }
   ],
   "source": [
    "nam = [\"Rizwan\", \"Ali\", \"Syed\", \"Andleeb\", \"the programmer\"] #we can use tuple / list\n",
    "normal = \"these are some name\"\n",
    "kw = {\"Andleeb\":\"Monitor\", \"Rizwan\":\"Fitness instructor\", \"the programmer\":\"coordinator\"}\n",
    "funargs(normal, *nam, **kw)"
   ]
  },
  {
   "cell_type": "code",
   "execution_count": null,
   "id": "e1023cea",
   "metadata": {},
   "outputs": [],
   "source": []
  }
 ],
 "metadata": {
  "kernelspec": {
   "display_name": "Python 3 (ipykernel)",
   "language": "python",
   "name": "python3"
  },
  "language_info": {
   "codemirror_mode": {
    "name": "ipython",
    "version": 3
   },
   "file_extension": ".py",
   "mimetype": "text/x-python",
   "name": "python",
   "nbconvert_exporter": "python",
   "pygments_lexer": "ipython3",
   "version": "3.9.6"
  }
 },
 "nbformat": 4,
 "nbformat_minor": 5
}
